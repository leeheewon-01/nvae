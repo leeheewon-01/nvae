{
 "cells": [
  {
   "cell_type": "code",
   "execution_count": 1,
   "metadata": {},
   "outputs": [
    {
     "name": "stdout",
     "output_type": "stream",
     "text": [
      "/workspace/nvae\n",
      "M_N= 0.0006317898903745823 ETA_M_N= 5e-06\n",
      "Epoch 0/30:   0%|          | 0/1583 [00:00<?, ?it/s]\n",
      "Epoch 1/30:   0%|          | 0/1583 [00:00<?, ?it/s]\n",
      "Epoch 2/30:   0%|          | 0/1583 [00:00<?, ?it/s]\n",
      "Epoch 3/30:   0%|          | 0/1583 [00:00<?, ?it/s]\n",
      "Epoch 4/30:   0%|          | 0/1583 [00:00<?, ?it/s]\n",
      "Epoch 5/30:   0%|          | 0/1583 [00:00<?, ?it/s]\n",
      "Epoch 6/30:   0%|          | 0/1583 [00:00<?, ?it/s]\n",
      "Epoch 7/30:   0%|          | 0/1583 [00:00<?, ?it/s]\n",
      "Epoch 8/30:   0%|          | 0/1583 [00:00<?, ?it/s]\n",
      "Epoch 9/30:   0%|          | 0/1583 [00:00<?, ?it/s]\n",
      "Epoch 10/30:   0%|          | 0/1583 [00:00<?, ?it/s]\n",
      "Epoch 11/30:   0%|          | 0/1583 [00:00<?, ?it/s]\n",
      "Epoch 12/30:   0%|          | 0/1583 [00:00<?, ?it/s]\n",
      "Epoch 13/30:   0%|          | 0/1583 [00:00<?, ?it/s]\n",
      "Epoch 14/30:   0%|          | 0/1583 [00:00<?, ?it/s]\n",
      "Epoch 15/30:   0%|          | 0/1583 [00:00<?, ?it/s]\n",
      "Epoch 16/30:   0%|          | 0/1583 [00:00<?, ?it/s]\n",
      "Epoch 17/30:   0%|          | 0/1583 [00:00<?, ?it/s]\n",
      "Epoch 18/30:   0%|          | 0/1583 [00:00<?, ?it/s]\n",
      "Epoch 19/30:   0%|          | 0/1583 [00:00<?, ?it/s]\n",
      "Epoch 20/30:   0%|          | 0/1583 [00:00<?, ?it/s]\n",
      "Epoch 21/30:   0%|          | 0/1583 [00:00<?, ?it/s]\n",
      "Epoch 22/30:   0%|          | 0/1583 [00:00<?, ?it/s]\n",
      "Epoch 23/30:   0%|          | 0/1583 [00:00<?, ?it/s]\n",
      "Epoch 24/30:   0%|          | 0/1583 [00:00<?, ?it/s]\n",
      "Epoch 25/30:   0%|          | 0/1583 [00:00<?, ?it/s]\n",
      "Epoch 26/30:   0%|          | 0/1583 [00:00<?, ?it/s]\n",
      "Epoch 27/30:   0%|          | 0/1583 [00:00<?, ?it/s]\n",
      "Epoch 28/30:   0%|          | 0/1583 [00:00<?, ?it/s]\n",
      "Epoch 29/30:   0%|          | 0/1583 [00:00<?, ?it/s]\n"
     ]
    }
   ],
   "source": [
    "%cd /workspace/nvae\n",
    "!python train.py --dataset_path /workspace/data/celeba/img_align_celeba --batch_size 128 --epochs 30"
   ]
  },
  {
   "cell_type": "code",
   "execution_count": 6,
   "metadata": {},
   "outputs": [
    {
     "name": "stdout",
     "output_type": "stream",
     "text": [
      "/workspace/nvae/recon_test.py:18: FutureWarning: You are using `torch.load` with `weights_only=False` (the current default value), which uses the default pickle module implicitly. It is possible to construct malicious pickle data which will execute arbitrary code during unpickling (See https://github.com/pytorch/pytorch/blob/main/SECURITY.md#untrusted-models for more details). In a future release, the default value for `weights_only` will be flipped to `True`. This limits the functions that could be executed during unpickling. Arbitrary objects will no longer be allowed to be loaded via this mode unless they are explicitly allowlisted by the user via `torch.serialization.add_safe_globals`. We recommend you start setting `weights_only=True` for any use case where you don't have full control of the loaded file. Please open an issue on GitHub for any issues related to this experimental feature.\n",
      "  model.load_state_dict(torch.load(\"/workspace/nvae/checkpoints/ae_ckpt_29_1133.711199.pth\", map_location=device), strict=False)\n",
      "Figure(640x480)\n",
      "Figure(640x480)\n"
     ]
    }
   ],
   "source": [
    "!python recon_test.py"
   ]
  }
 ],
 "metadata": {
  "kernelspec": {
   "display_name": "base",
   "language": "python",
   "name": "python3"
  },
  "language_info": {
   "codemirror_mode": {
    "name": "ipython",
    "version": 3
   },
   "file_extension": ".py",
   "mimetype": "text/x-python",
   "name": "python",
   "nbconvert_exporter": "python",
   "pygments_lexer": "ipython3",
   "version": "3.11.10"
  }
 },
 "nbformat": 4,
 "nbformat_minor": 2
}
